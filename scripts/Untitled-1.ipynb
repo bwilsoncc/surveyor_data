{
 "cells": [
  {
   "cell_type": "code",
   "execution_count": null,
   "metadata": {},
   "outputs": [],
   "source": [
    "import os\n",
    "from pgmagick import Image\n",
    "from scripts/config import Config\n",
    "print(Config.SOURCE)"
   ]
  },
  {
   "cell_type": "code",
   "execution_count": null,
   "metadata": {},
   "outputs": [],
   "source": []
  }
 ],
 "metadata": {
  "interpreter": {
   "hash": "3c5ea5cd94ca385446a5f91135c07fac81999443f932ebe7e7b78ce230aecc66"
  },
  "kernelspec": {
   "display_name": "Python 3.9.7 64-bit ('magick': conda)",
   "name": "python3"
  },
  "language_info": {
   "name": "python",
   "version": "3.9.7"
  },
  "orig_nbformat": 4
 },
 "nbformat": 4,
 "nbformat_minor": 2
}
