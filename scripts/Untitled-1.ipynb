{
 "cells": [
  {
   "cell_type": "code",
   "execution_count": 1,
   "metadata": {},
   "outputs": [
    {
     "name": "stdout",
     "output_type": "stream",
     "text": [
      "K:/webmaps/basemap/cc-gis.sde\n"
     ]
    }
   ],
   "source": [
    "import os\n",
    "import subprocess\n",
    "from config import Config\n",
    "print(Config.SDE_CONNECTION)\n",
    "\n",
    "from arcgis.gis import GIS\n",
    "from arcgis.features import FeatureLayer\n",
    "\n",
    "gis = GIS(Config.PORTAL_URL, Config.PORTAL_USER, Config.PORTAL_PASSWORD)\n"
   ]
  },
  {
   "cell_type": "code",
   "execution_count": null,
   "metadata": {},
   "outputs": [],
   "source": [
    "def read_shape_data(gis):\n",
    "    key_fields = ['DocumentNa']\n",
    "    popup_fields = [\"SYEAR\", \"SurveyDate\", \"BookPage\", \"Client\", \"Firm\", \"SurveyorKe\"]\n",
    "\n",
    "    # Using arcgis, I have to publish on Portal but then I can use spatial data.\n",
    "    url = \"https://delta.co.clatsop.or.us/server/rest/services/Public_Works/Surveys/FeatureServer/0\"\n",
    "    layer = FeatureLayer(url, gis)\n",
    "    df = layer.query(where=\"1=1\", out_fields=key_fields+popup_fields).sdf\n",
    "\n",
    "    return df\n",
    "survey_df = read_shape_data(gis)"
   ]
  },
  {
   "cell_type": "code",
   "execution_count": null,
   "metadata": {},
   "outputs": [],
   "source": [
    "import arcpy\n",
    "import pandas as pd\n",
    "images = os.path.join(Config.SDE_CONNECTION, \"Clatsop.dbo.SURVEYIMAGES\")\n",
    "n = arcpy.da.TableToNumPyArray(in_table=images, field_names=[\"DocumentName\", \"Image\", \"DateModified\"], skip_nulls=False)\n",
    "docs_df = pd.DataFrame(n)\n",
    "docs_df\n"
   ]
  },
  {
   "cell_type": "code",
   "execution_count": null,
   "metadata": {},
   "outputs": [],
   "source": [
    "x = pd.merge(survey_df, docs_df, left_on=\"DocumentNa\", right_on=\"DocumentName\", validate=\"m:m\")\n",
    "x"
   ]
  },
  {
   "cell_type": "code",
   "execution_count": null,
   "metadata": {},
   "outputs": [],
   "source": [
    "basepath = \"\\\\\\\\clatsop.co.clatsop.or.us\\\\data\\\\applications\\\\surveyordata\\\\survey\\\\scanned surveys\\\\aa_indexed_surveys\\\\\"\n",
    "groups = x.groupby('DocumentNa')\n",
    "surveys2 = {}\n",
    "for name,group in groups:\n",
    "    longimages = group[\"Image\"].tolist()\n",
    "    surveys2[name] = [os.path.splitext(item)[0].lower().replace(basepath,'').replace('\\\\', '/') for item in longimages]  \n",
    "surveys2\n"
   ]
  },
  {
   "cell_type": "code",
   "execution_count": null,
   "metadata": {},
   "outputs": [],
   "source": [
    "surveys3 = list()\n",
    "baseurl = \"https://delta.co.clatsop.or.us/survey/\"\n",
    "maxlink=0\n",
    "for k,images in surveys2.items():\n",
    "    link = 0\n",
    "    d = dict()\n",
    "    d['DocumentNa'] = k\n",
    "    for baselink in sorted(images):\n",
    "        link += 1\n",
    "        name = os.path.split(baselink)[1]\n",
    "        d['SURVEY%02d' % link] = name\n",
    "        d['HYPERLINK%02d' % link] = baseurl + baselink + '.pdf'\n",
    "    maxlink = max(maxlink, link)\n",
    "    d['HYPERLINKS'] = maxlink\n",
    "    surveys3.append(d)\n",
    "surveys3"
   ]
  },
  {
   "cell_type": "code",
   "execution_count": null,
   "metadata": {},
   "outputs": [],
   "source": [
    "hyperlinks_df=pd.DataFrame.from_dict(surveys3)"
   ]
  },
  {
   "cell_type": "code",
   "execution_count": null,
   "metadata": {},
   "outputs": [],
   "source": [
    "xl = pd.merge(survey_df, hyperlinks_df, on=\"DocumentNa\")\n",
    "xl"
   ]
  },
  {
   "cell_type": "code",
   "execution_count": null,
   "metadata": {},
   "outputs": [],
   "source": [
    "from utils import get_files_df\n",
    "import os\n",
    "os.chdir(Config.SOURCE)\n",
    "files_df = get_files_df('.')\n",
    "files_df"
   ]
  },
  {
   "cell_type": "code",
   "execution_count": null,
   "metadata": {},
   "outputs": [],
   "source": [
    "def fixdocname(s):\n",
    "    pathname = s.Image\n",
    "    p,fe = os.path.split(pathname)\n",
    "    f,e = os.path.splitext(fe)\n",
    "    s['Doc'] = f\n",
    "    return s\n",
    "docs_short_df = docs_df.apply(fixdocname, axis=1)\n",
    "docs_short_df"
   ]
  },
  {
   "cell_type": "code",
   "execution_count": null,
   "metadata": {},
   "outputs": [],
   "source": [
    "xdocs = pd.merge(docs_short_df, files_df, left_on='Doc', right_on='file')\n",
    "xdocs[xdocs['match']==False]"
   ]
  },
  {
   "cell_type": "code",
   "execution_count": null,
   "metadata": {},
   "outputs": [],
   "source": [
    "import numpy as np\n",
    "import datetime\n",
    "dti = pd.to_datetime(\n",
    "    [\"1/1/2018\", np.datetime64(\"2018-01-01\"), datetime.datetime(2018, 1, 1)]\n",
    ")\n",
    "dti\n"
   ]
  },
  {
   "cell_type": "code",
   "execution_count": null,
   "metadata": {},
   "outputs": [],
   "source": [
    "from datetime import datetime\n",
    "floatytime = datetime.fromtimestamp(1566924882.689)\n",
    "type(floatytime)\n",
    "pd.to_datetime(floatytime)"
   ]
  },
  {
   "cell_type": "code",
   "execution_count": null,
   "metadata": {},
   "outputs": [],
   "source": [
    "def ddd():\n",
    "    d = dict()\n",
    "    d[0] = [sorted([3,2,1]), sorted([])]\n",
    "    return d\n",
    "d = ddd()\n",
    "for item in d:\n",
    "    print(item, d[item])"
   ]
  },
  {
   "cell_type": "code",
   "execution_count": null,
   "metadata": {},
   "outputs": [],
   "source": [
    "# Print every table entry that does not have a corresponding file on the fileserver.\n",
    "for index,row in docs_df.iterrows():\n",
    "    if not os.path.exists(row.Image):\n",
    "        print(row.Image)"
   ]
  },
  {
   "cell_type": "code",
   "execution_count": null,
   "metadata": {},
   "outputs": [],
   "source": [
    "from requests.utils import requote_uri\n",
    "requote_uri(\"https://myurl/file name with spaces.pdf?a=t&t=t\")\n"
   ]
  },
  {
   "cell_type": "code",
   "execution_count": null,
   "metadata": {},
   "outputs": [],
   "source": [
    "from config import Config\n",
    "import arcpy\n",
    "arcpy.SignInToPortal(Config.PORTAL_URL, Config.PORTAL_USER, Config.PORTAL_PASSWORD)\n",
    "\n",
    "project = arcpy.mp.ArcGISProject(\"K:/webmaps/basemap/basemap.aprx\")\n",
    "maps = project.listMaps()\n",
    "mapnames = [map.name for map in maps]\n",
    "map = maps[mapnames.index('Surveys')]\n",
    "print(map.name)"
   ]
  },
  {
   "cell_type": "code",
   "execution_count": null,
   "metadata": {},
   "outputs": [],
   "source": [
    "layer = map.listLayers()[0]\n",
    "print(layer.name)"
   ]
  },
  {
   "cell_type": "code",
   "execution_count": null,
   "metadata": {},
   "outputs": [],
   "source": [
    "sd_name = \"C:/TEMP/Surveys.sd\"\n",
    "sddraft_name = sd_name + \"draft\"\n",
    "server_type = \"HOSTING_SERVER\"\n",
    "server_type = \"FEDERATED_SERVER\"\n",
    "service_name = 'Surveys'\n",
    "service_type = \"MAP_IMAGE\"\n",
    "#arcpy.mp.CreateWebLayerSDDraft(map, sddraft_name, service_name, 'MY_HOSTED_SERVICES', 'FEATURE_ACCESS', '', True, True)\n",
    "sddraft = map.getWebLayerSharingDraft(server_type, service_type, service_name, [layer])\n",
    "sddraft.copyDataToServer = True\n",
    "sddraft.federatedServerUrl = Config.SERVER_URL\n",
    "sddraft.exportToSDDraft(sddraft_name)"
   ]
  },
  {
   "cell_type": "code",
   "execution_count": null,
   "metadata": {},
   "outputs": [],
   "source": [
    "arcpy.env.overwriteOutput = True\n",
    "arcpy.server.StageService(sddraft_name, sd_name)\n"
   ]
  },
  {
   "cell_type": "code",
   "execution_count": null,
   "metadata": {},
   "outputs": [],
   "source": [
    "from arcgis.gis import GIS\n",
    "gis = GIS(Config.PORTAL_URL, Config.PORTAL_USER, Config.PORTAL_PASSWORD)\n",
    "sd = gis.content.add({}, sd_name)\n",
    "sd"
   ]
  },
  {
   "cell_type": "code",
   "execution_count": null,
   "metadata": {},
   "outputs": [],
   "source": [
    "result = arcpy.server.UploadServiceDefinition(sd_name, Config.SERVER_URL)           \n",
    "#sd.publish()"
   ]
  },
  {
   "cell_type": "code",
   "execution_count": null,
   "metadata": {},
   "outputs": [],
   "source": [
    "def fn(file):\n",
    "  ext=['.jpg', '.tif', 'tiff']\n",
    "  for e in ext:\n",
    "      if file.lower().endswith(e):\n",
    "          f = file[0:-len(e)]\n",
    "          return f + '.pdf'\n",
    "  return file\n",
    "fn(\"foo.JPG.pdf\")"
   ]
  },
  {
   "cell_type": "code",
   "execution_count": null,
   "metadata": {},
   "outputs": [],
   "source": [
    "import pandas as pd\n",
    "from arcgis.gis import GIS\n",
    "from arcgis.features import FeatureLayer\n",
    "from config import Config\n",
    "from build_feature_class import read_shape_data\n",
    "gis = GIS(Config.PORTAL_URL, Config.PORTAL_USER, Config.PORTAL_PASSWORD)\n"
   ]
  },
  {
   "cell_type": "code",
   "execution_count": null,
   "metadata": {},
   "outputs": [],
   "source": [
    "#url = Config.SURVEY_FEATURES\n",
    "#key_fields = ['DocumentNa']\n",
    "#popup_fields = [\"SYEAR\", \"SurveyDate\", \"BookPage\", \"Client\", \"Firm\", \"SurveyorKe\"]\n",
    "#layer = FeatureLayer(url, gis)\n",
    "#df = layer.query(where=\"1=1\", out_fields=key_fields+popup_fields).sdf\n",
    "df = read_shape_data(gis, url=Config.SURVEY_FEATURES)\n"
   ]
  },
  {
   "cell_type": "code",
   "execution_count": 2,
   "metadata": {},
   "outputs": [],
   "source": [
    "from sqlalchemy import create_engine\n",
    "from sqlalchemy.engine import URL\n",
    "connUrl = URL.create(\n",
    "    'mssql+pyodbc',\n",
    "    username='sde',password='CCgis97103',\n",
    "    host='cc-gis',\n",
    "    database='Clatsop',\n",
    "    query={\n",
    "        \"driver\": 'SQL SERVER',\n",
    "    }\n",
    ")\n",
    "engine = create_engine(connUrl)\n"
   ]
  },
  {
   "cell_type": "code",
   "execution_count": 4,
   "metadata": {},
   "outputs": [
    {
     "name": "stdout",
     "output_type": "stream",
     "text": [
      "Image    \\\\Clatsop.co.clatsop.or.us\\data\\Applications\\S...\n",
      "Name: 0, dtype: object\n",
      "Image    \\\\Clatsop.co.clatsop.or.us\\data\\Applications\\S...\n",
      "Name: 1, dtype: object\n",
      "Image    \\\\Clatsop.co.clatsop.or.us\\data\\Applications\\S...\n",
      "Name: 2, dtype: object\n",
      "Image    \\\\Clatsop.co.clatsop.or.us\\data\\Applications\\S...\n",
      "Name: 3, dtype: object\n",
      "Image    \\\\Clatsop.co.clatsop.or.us\\data\\Applications\\S...\n",
      "Name: 4, dtype: object\n",
      "Image    \\\\Clatsop.co.clatsop.or.us\\data\\Applications\\S...\n",
      "Name: 5, dtype: object\n",
      "Image    \\\\Clatsop.co.clatsop.or.us\\data\\Applications\\S...\n",
      "Name: 6, dtype: object\n",
      "Image    \\\\Clatsop.co.clatsop.or.us\\data\\Applications\\S...\n",
      "Name: 7, dtype: object\n",
      "Image    \\\\Clatsop.co.clatsop.or.us\\data\\Applications\\S...\n",
      "Name: 8, dtype: object\n",
      "Image    \\\\Clatsop.co.clatsop.or.us\\data\\Applications\\S...\n",
      "Name: 9, dtype: object\n"
     ]
    }
   ],
   "source": [
    "import pandas as pd\n",
    "connection = engine.connect()\n",
    "query = 'SELECT DocumentName,Image FROM [SURVEYIMAGES]'\n",
    "docs_df=pd.read_sql_query(sql=query, con=connection)\n",
    "for i in range(10):\n",
    "    d = docs_df.loc[i]\n",
    "    print(d)"
   ]
  },
  {
   "cell_type": "code",
   "execution_count": null,
   "metadata": {},
   "outputs": [],
   "source": [
    "conn = engine.connect()\n",
    "result = conn.execute(\"SELECT DocumentName,Image from SURVEYIMAGES\")\n",
    "for row in result:\n",
    "    print(row)\n",
    "    break"
   ]
  },
  {
   "cell_type": "code",
   "execution_count": null,
   "metadata": {},
   "outputs": [],
   "source": []
  }
 ],
 "metadata": {
  "interpreter": {
   "hash": "3c5ea5cd94ca385446a5f91135c07fac81999443f932ebe7e7b78ce230aecc66"
  },
  "kernelspec": {
   "display_name": "Python 3.9.7 64-bit ('magick': conda)",
   "name": "python3"
  },
  "language_info": {
   "codemirror_mode": {
    "name": "ipython",
    "version": 3
   },
   "file_extension": ".py",
   "mimetype": "text/x-python",
   "name": "python",
   "nbconvert_exporter": "python",
   "pygments_lexer": "ipython3",
   "version": "3.7.12"
  },
  "orig_nbformat": 4
 },
 "nbformat": 4,
 "nbformat_minor": 2
}
