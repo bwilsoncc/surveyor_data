{
 "cells": [
  {
   "cell_type": "code",
   "execution_count": null,
   "metadata": {},
   "outputs": [],
   "source": [
    "import os\n",
    "from arcgis.gis import GIS\n",
    "from arcgis.features import FeatureLayer, FeatureSet, Feature, Table\n",
    "from scripts.utils import get_files_df\n",
    "from scripts.config import Config"
   ]
  },
  {
   "cell_type": "code",
   "execution_count": null,
   "metadata": {},
   "outputs": [],
   "source": [
    "url=\"https://delta.co.clatsop.or.us/server/rest/services/TESTING_Brian/Surveys/MapServer/0\"\n",
    "url=\"https://delta.co.clatsop.or.us/server/rest/services/TESTING_Brian/Surveys_3/FeatureServer/0\"\n",
    "portal = GIS(Config.PORTAL_URL, Config.PORTAL_USER, Config.PORTAL_PASSWORD)\n",
    "layer = FeatureLayer(url, gis=portal)\n",
    "fields = \"*\"\n",
    "df = layer.query(where=\"1=1\", out_fields=fields, out_sr=3857).sdf\n",
    "print(df)"
   ]
  },
  {
   "cell_type": "code",
   "execution_count": null,
   "metadata": {},
   "outputs": [],
   "source": [
    "files_df = get_files_df(Config.SOURCE)\n",
    "files_df"
   ]
  },
  {
   "cell_type": "code",
   "execution_count": null,
   "metadata": {},
   "outputs": [],
   "source": [
    "matched"
   ]
  },
  {
   "cell_type": "code",
   "execution_count": null,
   "metadata": {},
   "outputs": [],
   "source": [
    "from scripts.build_feature_class import *\n",
    "from scripts.config import Config\n",
    "gis = GIS(Config.PORTAL_URL, Config.PORTAL_USER, Config.PORTAL_PASSWORD)\n"
   ]
  },
  {
   "cell_type": "code",
   "execution_count": null,
   "metadata": {},
   "outputs": [],
   "source": [
    "doc_table = os.path.join(Config.SDE_CONNECTION, \"Clatsop.dbo.SURVEYIMAGES\")\n",
    "docs_df = read_docs(doc_table)\n",
    "survey_df = read_shape_data(gis)\n",
    "\n",
    "xdf = pd.merge(survey_df, docs_df, left_on=\"DocumentNa\", right_on=\"DocumentName\", validate=\"m:m\")\n",
    "   \n",
    "dsurveys = make_hyperlinks_dict(xdf)\n",
    "hyperdf = make_hyperlinks_df(dsurveys)\n",
    "df = pd.merge(survey_df, hyperdf, on=\"DocumentNa\")\n",
    "print(df)"
   ]
  },
  {
   "cell_type": "code",
   "execution_count": null,
   "metadata": {},
   "outputs": [],
   "source": [
    "prefix='//clatsop.co.clatsop.or.us/data/applications/surveyordata/survey/scanned surveys/aa_indexed_surveys/'\n",
    "lp=len(prefix)\n",
    "for item in dsurveys:\n",
    "    l = dsurveys[item]\n",
    "    if len(l)>6:\n",
    "        print(item)\n",
    "        l1 = list()\n",
    "        lcopy = list()\n",
    "        for n in l:\n",
    "            n = n[lp:]\n",
    "            if n[-4:] == 'copy':\n",
    "                lcopy.append(n)\n",
    "            else:\n",
    "                l1.append(n)\n",
    "        print(l1)\n",
    "        print(lcopy)"
   ]
  },
  {
   "cell_type": "code",
   "execution_count": null,
   "metadata": {},
   "outputs": [],
   "source": [
    "from IPython.display import display\n",
    "from arcgis.gis import GIS\n",
    "import os\n",
    "from config import Config\n",
    "gis = GIS(Config.PORTAL_URL, Config.PORTAL_USER, Config.PORTAL_PASSWORD)\n"
   ]
  },
  {
   "cell_type": "code",
   "execution_count": null,
   "metadata": {},
   "outputs": [],
   "source": [
    "def delete_existing_items(item_types, name_list):\n",
    "    for current_item_type in item_types:\n",
    "        for file_name in name_list:    \n",
    "            search_result = gis.content.search(query=file_name, item_type=current_item_type)\n",
    "            if len(search_result) > 0:\n",
    "                for item in search_result:\n",
    "                    item.delete()\n",
    "                    print(\"Deleted existing \" + current_item_type + \": \", item)\n",
    "item_types=['Service Definition', 'Feature Layer Collection', 'Map Service']\n",
    "names = [ 'hyperlinked_surveys']\n"
   ]
  },
  {
   "cell_type": "code",
   "execution_count": null,
   "metadata": {},
   "outputs": [],
   "source": [
    "def delete_existing_folder(folder_name):\n",
    "    try:\n",
    "        return gis.content.delete_folder(folder=folder_name)\n",
    "    except:\n",
    "        return False\n",
    "\n",
    "my_folder_name = \"Rainfall Data\"\n",
    "delete_existing_folder(my_folder_name) # returns True if folder exists, or False if non-exist"
   ]
  },
  {
   "cell_type": "code",
   "execution_count": null,
   "metadata": {},
   "outputs": [],
   "source": [
    "data_dir = \"K:/webmaps/basemap/\"\n",
    "\n",
    "#Get list of all files\n",
    "file_list = os.listdir(data_dir)\n",
    "\n",
    "#Filter and get only .sd files\n",
    "sd_file_list = [x for x in file_list if x.endswith(\".sd\")]\n",
    "print(\"Number of .sd files found: \" + str(len(sd_file_list)))"
   ]
  },
  {
   "cell_type": "code",
   "execution_count": null,
   "metadata": {},
   "outputs": [],
   "source": [
    "# Loop through each file and publish it as a service\n",
    "for current_sd_file in sd_file_list:\n",
    "    item = gis.content.add({}, data_dir + current_sd_file)   # .sd file is uploaded and a .sd file item is created\n",
    "    if \"BuildCache\" not in current_sd_file:\n",
    "        published_item = item.publish()                      # .sd file item is published and a web layer item is created\n",
    "    else:\n",
    "        published_item = item.publish(build_initial_cache=True)  # publish as hosted tile layer with \"build cache\" enabled\n",
    "    display(published_item)\n"
   ]
  },
  {
   "cell_type": "code",
   "execution_count": 1,
   "metadata": {},
   "outputs": [
    {
     "data": {
      "text/plain": [
       "<arcpy._mp.Layer at 0x27daf22dd48>"
      ]
     },
     "execution_count": 1,
     "metadata": {},
     "output_type": "execute_result"
    }
   ],
   "source": [
    "from scripts.config import Config\n",
    "import arcpy\n",
    "arcpy.SignInToPortal(Config.PORTAL_URL, Config.PORTAL_USER, Config.PORTAL_PASSWORD)\n",
    "\n",
    "project = arcpy.mp.ArcGISProject(\"K:/webmaps/basemap/basemap.aprx\")\n",
    "maps = project.listMaps()\n",
    "mapnames = [map.name for map in maps]\n",
    "map = maps[mapnames.index('arcgis_utils unit test')]\n",
    "layer = map.listLayers()[0]\n",
    "layer\n"
   ]
  },
  {
   "cell_type": "code",
   "execution_count": 4,
   "metadata": {},
   "outputs": [
    {
     "name": "stdout",
     "output_type": "stream",
     "text": [
      "C:\\Temp\\Survey_Sample_GEODATABASE_MAP.sddraft\n"
     ]
    }
   ],
   "source": [
    "def fn(sd_name, server, service, copy=True):\n",
    "    sddraft = map.getWebLayerSharingDraft(server_type=server, service_type=service,\n",
    "        service_name=sd_name)\n",
    "    sddraft_name = os.path.join(\"C:\\\\Temp\", sd_name + '.sddraft')\n",
    "    sddraft.overwriteExistingService = True\n",
    "    sddraft.copyDataToServer = copy\n",
    "    if server=='FEDERATED_SERVER':\n",
    "        sddraft.federatedServerUrl = Config.SERVER_URL  # required for FEDERATED_SERVER!\n",
    "    print(sddraft_name)\n",
    "    sddraft.exportToSDDraft(sddraft_name)\n",
    "    arcpy.env.overwriteOutput = True\n",
    "    arcpy.StageService_server(sddraft_name, os.path.join(\"C:\\\\Temp\", sd_name + \".sd\"))\n",
    "#fn(\"Survey_Sample_MIL\", \"FEDERATED_SERVER\", \"MAP_IMAGE\")\n",
    "#fn(\"Survey_Sample_FEATURES\", \"HOSTING_SERVER\", \"FEATURE\")\n",
    "fn(\"Survey_Sample_GEODATABASE_MAP\", \"FEDERATED_SERVER\", \"MAP_IMAGE\", copy=False)\n"
   ]
  },
  {
   "cell_type": "code",
   "execution_count": 20,
   "metadata": {},
   "outputs": [
    {
     "data": {
      "text/html": [
       "<h2>Output</h2><table><tr><th>id</th><th>value</th></tr><tr><td>0</td><td>https://CC-GIS.CLATSOP.CO.CLATSOP.OR.US:6443/arcgis/services/Survey_Sample_MIL/MapServer</td></tr><tr><td>1</td><td>https://CC-GIS.CLATSOP.CO.CLATSOP.OR.US:6443/arcgis/rest/services/Survey_Sample_MIL/MapServer</td></tr><tr><td>2</td><td></td></tr><tr><td>3</td><td></td></tr><tr><td>4</td><td></td></tr><tr><td>5</td><td></td></tr><tr><td>6</td><td></td></tr><tr><td>7</td><td></td></tr><tr><td>8</td><td></td></tr><tr><td>9</td><td></td></tr><tr><td>10</td><td></td></tr></table><h2>Messages</h2>Start Time: Thursday, December 23, 2021 12:08:23 PM<br/>Submitted.<br/>Executing...<br/>Executing (Publish Service Definition): PublishServiceDefinition ia976f338-6563-4da1-b591-f66b40769178 # {\"buildInitialCache\":false}<br/>Start Time: Thu Dec 23 12:08:24 2021<br/>Submitted.<br/>Executing...<br/>Start Time: Thursday, December 23, 2021 12:08:25 PM<br/>Getting server information (server folders, data stores, etc.).<br/>Validating service definition.<br/>Creating the service.<br/>Succeeded at Thursday, December 23, 2021 12:08:51 PM (Elapsed Time: 25.82 seconds)<br/>Succeeded.<br/>Succeeded at Thu Dec 23 12:08:51 2021 (Elapsed Time: 27.30 seconds)<br/>Succeeded.<br/>Succeeded at Thursday, December 23, 2021 12:08:53 PM (Elapsed Time: 29.60 seconds)<br/><style>.rendered_html td, .rendered_html th {text-align: left;}.rendered_html tbody {border: 1px solid black;}</style>"
      ],
      "text/plain": [
       "<Result 'https://CC-GIS.CLATSOP.CO.CLATSOP.OR.US:6443/arcgis/services/Survey_Sample_MIL/MapServer'>"
      ]
     },
     "execution_count": 20,
     "metadata": {},
     "output_type": "execute_result"
    }
   ],
   "source": [
    "arcpy.server.UploadServiceDefinition(\n",
    "    in_sd_file=\"C:\\\\Temp\\\\Survey_Sample_MIL.sd\", in_server=\"K:/webmaps/basemap/server (publisher).ags\")\n"
   ]
  },
  {
   "cell_type": "code",
   "execution_count": 22,
   "metadata": {},
   "outputs": [
    {
     "data": {
      "text/html": [
       "<h2>Output</h2><table><tr><th>id</th><th>value</th></tr><tr><td>0</td><td></td></tr><tr><td>1</td><td></td></tr><tr><td>2</td><td></td></tr><tr><td>3</td><td>35886b1683e246638eca2fc2648b962f</td></tr><tr><td>4</td><td></td></tr><tr><td>5</td><td>https://delta.co.clatsop.or.us/server/rest/services/Hosted/Survey_Sample_FEATURES/FeatureServer</td></tr><tr><td>6</td><td></td></tr><tr><td>7</td><td>hyperlinked_surveys|0</td></tr><tr><td>8</td><td></td></tr><tr><td>9</td><td></td></tr><tr><td>10</td><td></td></tr></table><h2>Messages</h2>Start Time: Thursday, December 23, 2021 12:13:38 PM<br/>Succeeded at Thursday, December 23, 2021 12:14:34 PM (Elapsed Time: 55.88 seconds)<br/><style>.rendered_html td, .rendered_html th {text-align: left;}.rendered_html tbody {border: 1px solid black;}</style>"
      ],
      "text/plain": [
       "<Result ''>"
      ]
     },
     "execution_count": 22,
     "metadata": {},
     "output_type": "execute_result"
    }
   ],
   "source": [
    "arcpy.server.UploadServiceDefinition(\n",
    "    in_sd_file=\"C:\\\\Temp\\\\Survey_Sample_FEATURES.sd\", in_server=Config.SERVER_URL)\n"
   ]
  },
  {
   "cell_type": "code",
   "execution_count": 5,
   "metadata": {},
   "outputs": [
    {
     "data": {
      "text/html": [
       "<h2>Output</h2><table><tr><th>id</th><th>value</th></tr><tr><td>0</td><td>https://CC-GIS.CLATSOP.CO.CLATSOP.OR.US:6443/arcgis/services/Survey_Sample_GEODATABASE_MAP/MapServer</td></tr><tr><td>1</td><td>https://CC-GIS.CLATSOP.CO.CLATSOP.OR.US:6443/arcgis/rest/services/Survey_Sample_GEODATABASE_MAP/MapServer</td></tr><tr><td>2</td><td></td></tr><tr><td>3</td><td></td></tr><tr><td>4</td><td></td></tr><tr><td>5</td><td></td></tr><tr><td>6</td><td></td></tr><tr><td>7</td><td></td></tr><tr><td>8</td><td></td></tr><tr><td>9</td><td></td></tr><tr><td>10</td><td></td></tr></table><h2>Messages</h2>Start Time: Thursday, December 23, 2021 1:13:21 PM<br/>Submitted.<br/>Executing...<br/>Executing (Publish Service Definition): PublishServiceDefinition if46ac217-e150-4817-b089-3bdf78d8b6db # {\"buildInitialCache\":false}<br/>Start Time: Thu Dec 23 13:13:22 2021<br/>Submitted.<br/>Executing...<br/>Start Time: Thursday, December 23, 2021 1:13:23 PM<br/>Getting server information (server folders, data stores, etc.).<br/>Validating service definition.<br/>Creating the service.<br/>Succeeded at Thursday, December 23, 2021 1:13:35 PM (Elapsed Time: 12.03 seconds)<br/>Succeeded.<br/>Succeeded at Thu Dec 23 13:13:37 2021 (Elapsed Time: 15.19 seconds)<br/>Succeeded.<br/>Succeeded at Thursday, December 23, 2021 1:13:38 PM (Elapsed Time: 17.14 seconds)<br/><style>.rendered_html td, .rendered_html th {text-align: left;}.rendered_html tbody {border: 1px solid black;}</style>"
      ],
      "text/plain": [
       "<Result 'https://CC-GIS.CLATSOP.CO.CLATSOP.OR.US:6443/arcgis/services/Survey_Sample_GEODATABASE_MAP/MapServer'>"
      ]
     },
     "execution_count": 5,
     "metadata": {},
     "output_type": "execute_result"
    }
   ],
   "source": [
    "arcpy.server.UploadServiceDefinition(\n",
    "    in_sd_file=\"C:\\\\Temp\\\\Survey_Sample_GEODATABASE_MAP.sd\", in_server=\"K:/webmaps/basemap/server (publisher).ags\")\n"
   ]
  }
 ],
 "metadata": {
  "interpreter": {
   "hash": "72efb39161239d6b2700581347297d6d2de1141b3d98de3c4b9a464d2262205d"
  },
  "kernelspec": {
   "display_name": "Python 3.8.3 64-bit ('covid': conda)",
   "name": "python3"
  },
  "language_info": {
   "codemirror_mode": {
    "name": "ipython",
    "version": 3
   },
   "file_extension": ".py",
   "mimetype": "text/x-python",
   "name": "python",
   "nbconvert_exporter": "python",
   "pygments_lexer": "ipython3",
   "version": "3.7.10"
  },
  "orig_nbformat": 4
 },
 "nbformat": 4,
 "nbformat_minor": 2
}
