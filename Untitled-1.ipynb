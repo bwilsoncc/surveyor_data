{
 "cells": [
  {
   "cell_type": "code",
   "execution_count": null,
   "metadata": {},
   "outputs": [],
   "source": [
    "from IPython.display import display\n",
    "import os\n",
    "import arcgis.gis\n",
    "from arcgis.features import FeatureLayer, FeatureSet, Feature, Table\n",
    "from utils import get_files_df\n",
    "from config import Config\n"
   ]
  },
  {
   "cell_type": "code",
   "execution_count": null,
   "metadata": {},
   "outputs": [],
   "source": [
    "url=\"https://delta.co.clatsop.or.us/server/rest/services/TESTING_Brian/Surveys/MapServer/0\"\n",
    "url=\"https://delta.co.clatsop.or.us/server/rest/services/TESTING_Brian/Surveys_3/FeatureServer/0\"\n",
    "portal = arcgis.gis.GIS(Config.PORTAL_URL, Config.PORTAL_USER, Config.PORTAL_PASSWORD)\n",
    "layer = FeatureLayer(url, gis=portal)\n",
    "fields = \"*\"\n",
    "df = layer.query(where=\"1=1\", out_fields=fields, out_sr=3857).sdf\n",
    "print(df)"
   ]
  },
  {
   "cell_type": "code",
   "execution_count": null,
   "metadata": {},
   "outputs": [],
   "source": [
    "files_df = get_files_df(Config.SOURCE)\n",
    "files_df"
   ]
  },
  {
   "cell_type": "code",
   "execution_count": null,
   "metadata": {},
   "outputs": [],
   "source": [
    "from build_feature_class import *\n",
    "from config import Config\n",
    "gis = arcgis.gis.GIS(Config.PORTAL_URL, Config.PORTAL_USER,\n",
    "                     Config.PORTAL_PASSWORD)\n"
   ]
  },
  {
   "cell_type": "code",
   "execution_count": null,
   "metadata": {},
   "outputs": [],
   "source": [
    "doc_table = os.path.join(Config.SDE_CONNECTION, \"Clatsop.dbo.SURVEYIMAGES\")\n",
    "docs_df = read_docs(doc_table)\n",
    "survey_df = read_shape_data(gis)\n",
    "\n",
    "xdf = pd.merge(survey_df, docs_df, left_on=\"DocumentNa\", right_on=\"DocumentName\", validate=\"m:m\")\n",
    "   \n",
    "dsurveys = make_hyperlinks_dict(xdf)\n",
    "hyperdf = make_hyperlinks_df(dsurveys)\n",
    "df = pd.merge(survey_df, hyperdf, on=\"DocumentNa\")\n",
    "print(df)"
   ]
  },
  {
   "cell_type": "code",
   "execution_count": null,
   "metadata": {},
   "outputs": [],
   "source": [
    "prefix='//clatsop.co.clatsop.or.us/data/applications/surveyordata/survey/scanned surveys/aa_indexed_surveys/'\n",
    "lp=len(prefix)\n",
    "for item in dsurveys:\n",
    "    l = dsurveys[item]\n",
    "    if len(l)>6:\n",
    "        print(item)\n",
    "        l1 = list()\n",
    "        lcopy = list()\n",
    "        for n in l:\n",
    "            n = n[lp:]\n",
    "            if n[-4:] == 'copy':\n",
    "                lcopy.append(n)\n",
    "            else:\n",
    "                l1.append(n)\n",
    "        print(l1)\n",
    "        print(lcopy)"
   ]
  },
  {
   "cell_type": "code",
   "execution_count": 3,
   "metadata": {},
   "outputs": [
    {
     "data": {
      "text/html": [
       "GIS @ <a href=\"https://delta.co.clatsop.or.us/portal\">https://delta.co.clatsop.or.us/portal</a>"
      ],
      "text/plain": [
       "GIS @ https://delta.co.clatsop.or.us/portal version:8.4"
      ]
     },
     "execution_count": 3,
     "metadata": {},
     "output_type": "execute_result"
    }
   ],
   "source": [
    "import arcgis.gis\n",
    "import os\n",
    "from config import Config\n",
    "proxy = 'http://cc-testmaps.clatsop.co.clatsop.or.us:8080'\n",
    "os.environ['HTTP_PROXY'] = proxy\n",
    "gis = arcgis.gis.GIS(Config.PORTAL_URL,Config.PORTAL_USER,Config.PORTAL_PASSWORD,initalize=True)\n",
    "# (url=None, username=None, password=None, key_file=None, cert_file=None, verify_cert=True, set_active=True, client_id=None, profile=None, **kwargs) -> None\n",
    "\n",
    "# does not work\n",
    "gis = GIS(Config.PORTAL_URL, Config.PORTAL_USER, Config.PORTAL_PASSWORD, \n",
    "       proxy_host=proxy, proxy_port=8080, verify_cert=False)\n",
    "gis\n"
   ]
  },
  {
   "cell_type": "code",
   "execution_count": null,
   "metadata": {},
   "outputs": [],
   "source": [
    "def delete_existing_items(item_types, name_list):\n",
    "    for current_item_type in item_types:\n",
    "        for file_name in name_list:    \n",
    "            search_result = gis.content.search(query=file_name, item_type=current_item_type)\n",
    "            if len(search_result) > 0:\n",
    "                for item in search_result:\n",
    "                    item.delete()\n",
    "                    print(\"Deleted existing \" + current_item_type + \": \", item)\n",
    "item_types=['Service Definition', 'Feature Layer Collection', 'Map Service']\n",
    "names = [ 'hyperlinked_surveys']\n"
   ]
  },
  {
   "cell_type": "code",
   "execution_count": null,
   "metadata": {},
   "outputs": [],
   "source": [
    "def delete_existing_folder(folder_name):\n",
    "    try:\n",
    "        return gis.content.delete_folder(folder=folder_name)\n",
    "    except:\n",
    "        return False\n",
    "\n",
    "my_folder_name = \"Rainfall Data\"\n",
    "delete_existing_folder(my_folder_name) # returns True if folder exists, or False if non-exist"
   ]
  },
  {
   "cell_type": "code",
   "execution_count": null,
   "metadata": {},
   "outputs": [],
   "source": [
    "data_dir = \"K:/webmaps/basemap/\"\n",
    "\n",
    "#Get list of all files\n",
    "file_list = os.listdir(data_dir)\n",
    "\n",
    "#Filter and get only .sd files\n",
    "sd_file_list = [x for x in file_list if x.endswith(\".sd\")]\n",
    "print(\"Number of .sd files found: \" + str(len(sd_file_list)))"
   ]
  },
  {
   "cell_type": "code",
   "execution_count": null,
   "metadata": {},
   "outputs": [],
   "source": [
    "# Loop through each file and publish it as a service\n",
    "for current_sd_file in sd_file_list:\n",
    "    item = gis.content.add({}, data_dir + current_sd_file)   # .sd file is uploaded and a .sd file item is created\n",
    "    if \"BuildCache\" not in current_sd_file:\n",
    "        published_item = item.publish()                      # .sd file item is published and a web layer item is created\n",
    "    else:\n",
    "        published_item = item.publish(build_initial_cache=True)  # publish as hosted tile layer with \"build cache\" enabled\n",
    "    display(published_item)\n"
   ]
  },
  {
   "cell_type": "code",
   "execution_count": 50,
   "metadata": {},
   "outputs": [
    {
     "data": {
      "text/plain": [
       "<arcpy._mp.Layer at 0x15f45ab87c8>"
      ]
     },
     "execution_count": 50,
     "metadata": {},
     "output_type": "execute_result"
    }
   ],
   "source": [
    "from config import Config\n",
    "import arcpy\n",
    "arcpy.SignInToPortal(Config.PORTAL_URL, Config.PORTAL_USER, Config.PORTAL_PASSWORD)\n",
    "\n",
    "project = arcpy.mp.ArcGISProject(\"K:/webmaps/basemap/basemap.aprx\")\n",
    "ags_file = \"K:/webmaps/basemap/server (publisher).ags\"\n",
    "assert os.path.exists(ags_file)\n",
    "\n",
    "maps = project.listMaps()\n",
    "mapnames = [map.name for map in maps]\n",
    "map = maps[mapnames.index('arcgis_utils unit test')]\n",
    "layer = map.listLayers()[0]\n",
    "layer\n"
   ]
  },
  {
   "cell_type": "code",
   "execution_count": 52,
   "metadata": {},
   "outputs": [
    {
     "name": "stdout",
     "output_type": "stream",
     "text": [
      "C:\\Temp\\TEST_Sample_MIL.sddraft\n",
      "C:\\TEMP\\TEST_Sample_MIL.sd\n"
     ]
    }
   ],
   "source": [
    "def fn(map, sd_name, server, service, copy=True):\n",
    "    sddraft = map.getWebLayerSharingDraft(server_type=server, service_type=service,\n",
    "        service_name=sd_name)\n",
    "    sddraft_name = os.path.join(\"C:\\\\Temp\", sd_name + '.sddraft')\n",
    "    sddraft.overwriteExistingService = True\n",
    "    sddraft.copyDataToServer = copy\n",
    "    if server=='FEDERATED_SERVER':\n",
    "        sddraft.federatedServerUrl = Config.SERVER_URL  # required for FEDERATED_SERVER!\n",
    "    print(sddraft_name)\n",
    "    sddraft.exportToSDDraft(sddraft_name)\n",
    "    arcpy.env.overwriteOutput = True\n",
    "    sddraft.serverFolder = \"Hosted\"\n",
    "    rval = arcpy.StageService_server(sddraft_name, os.path.join(\"C:\\\\Temp\",\n",
    "        sd_name + \".sd\"))\n",
    "    print(rval)\n",
    "fn(map, \"TEST_Sample_MIL\", \"FEDERATED_SERVER\", \"MAP_IMAGE\")\n",
    "#fn(map, \"TEST_Sample_FEATURES\", \"HOSTING_SERVER\", \"FEATURE\")\n"
   ]
  },
  {
   "cell_type": "code",
   "execution_count": 7,
   "metadata": {},
   "outputs": [
    {
     "data": {
      "text/plain": [
       "[]"
      ]
     },
     "execution_count": 7,
     "metadata": {},
     "output_type": "execute_result"
    }
   ],
   "source": [
    "service_id = \"e5b7345b622040f096fa923a807f55d0\"\n",
    "content_manager = gis.content\n",
    "service = content_manager.get(service_id)\n",
    "service\n",
    "rval = content_manager.search(query='title:\"Surveys_MIL\"', item_type='Map Image Layer')\n",
    "rval"
   ]
  },
  {
   "cell_type": "code",
   "execution_count": null,
   "metadata": {},
   "outputs": [],
   "source": [
    "mapr = maps[mapnames.index('Surveys_Registered')]\n",
    "fn(mapr, \"TEST_Sample_GEODATABASE_MAP\", \"FEDERATED_SERVER\", \"MAP_IMAGE\", copy=False)\n"
   ]
  },
  {
   "cell_type": "code",
   "execution_count": 53,
   "metadata": {},
   "outputs": [
    {
     "data": {
      "text/html": [
       "<h2>Output</h2><table><tr><th>id</th><th>value</th></tr><tr><td>0</td><td>https://CC-GIS.CLATSOP.CO.CLATSOP.OR.US:6443/arcgis/services/TEST_Sample_MIL/MapServer</td></tr><tr><td>1</td><td>https://CC-GIS.CLATSOP.CO.CLATSOP.OR.US:6443/arcgis/rest/services/TEST_Sample_MIL/MapServer</td></tr><tr><td>2</td><td></td></tr><tr><td>3</td><td></td></tr><tr><td>4</td><td></td></tr><tr><td>5</td><td></td></tr><tr><td>6</td><td></td></tr><tr><td>7</td><td></td></tr><tr><td>8</td><td></td></tr><tr><td>9</td><td></td></tr><tr><td>10</td><td></td></tr></table><h2>Messages</h2>Start Time: Monday, January 10, 2022 11:53:52 AM<br/>Submitted.<br/>Executing...<br/>Executing (Publish Service Definition): PublishServiceDefinition i5f5af2a8-8fb2-4353-b786-81f80cbd17bf # {\"buildInitialCache\":false}<br/>Start Time: Mon Jan 10 11:53:53 2022<br/>Submitted.<br/>Executing...<br/>Start Time: Monday, January 10, 2022 11:53:55 AM<br/>Getting server information (server folders, data stores, etc.).<br/>Validating service definition.<br/>Creating the service.<br/>Succeeded at Monday, January 10, 2022 11:54:08 AM (Elapsed Time: 13.40 seconds)<br/>Succeeded.<br/>Succeeded at Mon Jan 10 11:54:11 2022 (Elapsed Time: 18.36 seconds)<br/>Succeeded.<br/>Succeeded at Monday, January 10, 2022 11:54:13 AM (Elapsed Time: 20.95 seconds)<br/><style>.rendered_html td, .rendered_html th {text-align: left;}.rendered_html tbody {border: 1px solid black;}</style>"
      ],
      "text/plain": [
       "<Result 'https://CC-GIS.CLATSOP.CO.CLATSOP.OR.US:6443/arcgis/services/TEST_Sample_MIL/MapServer'>"
      ]
     },
     "execution_count": 53,
     "metadata": {},
     "output_type": "execute_result"
    }
   ],
   "source": [
    "arcpy.server.UploadServiceDefinition(\n",
    "    in_sd_file=\"C:\\\\Temp\\\\TEST_Sample_MIL.sd\", in_server=Config.SERVER_URL)\n"
   ]
  },
  {
   "cell_type": "code",
   "execution_count": 99,
   "metadata": {},
   "outputs": [
    {
     "data": {
      "text/html": [
       "<h2>Output</h2><table><tr><th>id</th><th>value</th></tr><tr><td>0</td><td></td></tr><tr><td>1</td><td></td></tr><tr><td>2</td><td></td></tr><tr><td>3</td><td>378f75184b054d5d818f73c423ffc8bf</td></tr><tr><td>4</td><td></td></tr><tr><td>5</td><td>https://delta.co.clatsop.or.us/server/rest/services/Hosted/TEST_Sample_FEATURES/FeatureServer</td></tr><tr><td>6</td><td></td></tr><tr><td>7</td><td>hyperlinked_surveys|0</td></tr><tr><td>8</td><td></td></tr><tr><td>9</td><td></td></tr><tr><td>10</td><td></td></tr></table><h2>Messages</h2>Start Time: Wednesday, January 5, 2022 4:26:52 PM<br/>Succeeded at Wednesday, January 5, 2022 4:27:44 PM (Elapsed Time: 52.37 seconds)<br/><style>.rendered_html td, .rendered_html th {text-align: left;}.rendered_html tbody {border: 1px solid black;}</style>"
      ],
      "text/plain": [
       "<Result ''>"
      ]
     },
     "execution_count": 99,
     "metadata": {},
     "output_type": "execute_result"
    }
   ],
   "source": [
    "\n",
    "from config import Config\n",
    "import arcpy\n",
    "arcpy.SignInToPortal(Config.PORTAL_URL, Config.PORTAL_USER,\n",
    "                     Config.PORTAL_PASSWORD)\n",
    "f = \"TEST_Sample_FEATURES.sd\"\n",
    "#f = \"Surveys_HOSTED_FEATURES.sd\" # FAILS with 999999\n",
    "arcpy.server.UploadServiceDefinition(\n",
    "    in_sd_file=\"C:\\\\Temp\\\\\" + f, in_server=\"HOSTING_SERVER\")\n"
   ]
  },
  {
   "cell_type": "code",
   "execution_count": null,
   "metadata": {},
   "outputs": [],
   "source": [
    "arcpy.server.UploadServiceDefinition(\n",
    "    in_sd_file=\"C:\\\\Temp\\\\TEST_Sample_GEODATABASE_MAP.sd\", in_server=ags_file)\n"
   ]
  },
  {
   "cell_type": "code",
   "execution_count": null,
   "metadata": {},
   "outputs": [],
   "source": [
    "# Do a direct REST request to fix up permissions.\n",
    "from arcgis_utils import get_access_token\n",
    "token = get_access_token()\n",
    "token"
   ]
  },
  {
   "cell_type": "code",
   "execution_count": null,
   "metadata": {},
   "outputs": [],
   "source": [
    "import requests\n",
    "import json\n",
    "from config import Config\n",
    "root = Config.PORTAL_URL + '/sharing/rest/'\n",
    "#portal_properties = root + 'portals/self' + '?f=json'\n",
    "\n",
    "portal_groups = root + 'community/groups'\n",
    "user = root + 'content/users/bwilson'\n",
    "payload = {\n",
    "    'q': '1=1',\n",
    "    'filter': 'owner:bwilson',\n",
    "    'f': 'json',\n",
    "    'token': token\n",
    "}\n",
    "response = requests.post(portal_groups, data=payload)\n",
    "print(response)\n",
    "d = response.json()\n",
    "d\n"
   ]
  },
  {
   "cell_type": "code",
   "execution_count": 14,
   "metadata": {},
   "outputs": [
    {
     "data": {
      "text/plain": [
       "{'everyone': True,\n",
       " 'org': True,\n",
       " 'groups': [<Group title:\"Emergency Management\" owner:bwilson@CLATSOP>,\n",
       "  <Group title:\"GIS Team\" owner:bwilson@CLATSOP>,\n",
       "  <Group title:\"Cartographers\" owner:bwilson@CLATSOP>]}"
      ]
     },
     "execution_count": 14,
     "metadata": {},
     "output_type": "execute_result"
    }
   ],
   "source": [
    "from arcgis.gis import GIS\n",
    "import os\n",
    "from config import Config\n",
    "proxy = 'cc-testmaps.clatsop.co.clatsop.or.us'\n",
    "content_manager = GIS(Config.PORTAL_URL, Config.PORTAL_USER,\n",
    "                     Config.PORTAL_PASSWORD).content\n",
    "name = 'TEST_Sample_FEATURES'\n",
    "q = 'title:\"%s\"' % name\n",
    "item = content_manager.search(query=q, item_type='Feature Layer')[0]\n",
    "item."
   ]
  },
  {
   "cell_type": "code",
   "execution_count": 57,
   "metadata": {},
   "outputs": [
    {
     "name": "stdout",
     "output_type": "stream",
     "text": [
      "Accela 7a451b653b1f44beb24ca942858dd738\n",
      "Basemaps e1388cc728964515a972221039020d11\n",
      "CountyManager fac35b64e2c049babca73744fa2f4f78\n",
      "COVID-19 735ff8cc4800436cb02e5b8dd8ac6ba3\n",
      "Developer Tools 07731f4722d9442783cd5d08d440a08a\n",
      "Geology 48e07861fdd04748921e1dc24eb2df89\n",
      "GIS_Sandbox dfd3a7fb9a2347c1be414acb0b73a1a8\n",
      "Hazards f898887a988e47738d51d79da0f07308\n",
      "Images 39ff0f72816344f8aa13e8f6e9db0a4f\n",
      "Locator_services d05ad4ee018c44a686b1218b904a7277\n",
      "MapProxy services 4c0a4482c92847a9860b1a518b83454b\n",
      "Oregon Framework 2ce2ad90869744b6a1e87785bae720aa\n",
      "Planning 20a137ea1cd143a18c7c17a96b60c839\n",
      "Planning 1 ee3489bd5e164ee78f0d6b6e294f3463\n",
      "Public Works 1bd1c56ca79348d7b0042c1921664707\n",
      "Public_Works 9328d2af62764875b81d71033dfb6637\n",
      "Social_Services 58368016588846b9801d65966246f36c\n",
      "TESTING_Brian 1b5a2ef60c3a4f2e99b7a9689132325e\n",
      "TsunamiSignProject fbc3a23530374de18a88d9982f39e1f5\n",
      "Wetlands 19491d9488c34e4d9ba3a57430ccc9e9\n",
      "Widgets a71905f020da4f9685c43342eda59350\n"
     ]
    }
   ],
   "source": [
    "import arcgis.gis\n",
    "gis = arcgis.gis.GIS(Config.PORTAL_URL, Config.PORTAL_USER,\n",
    "                     Config.PORTAL_PASSWORD)\n",
    "u = arcgis.gis.User(gis, 'bwilson@CLATSOP')\n",
    "for f in u.folders:\n",
    "    print(f['title'], f['id'])\n"
   ]
  },
  {
   "cell_type": "code",
   "execution_count": 56,
   "metadata": {},
   "outputs": [
    {
     "data": {
      "text/plain": [
       "[<Server at https://cc-gis.clatsop.co.clatsop.or.us:6443/arcgis/admin>]"
      ]
     },
     "execution_count": 56,
     "metadata": {},
     "output_type": "execute_result"
    }
   ],
   "source": [
    "gis.admin.servers.list()\n"
   ]
  },
  {
   "cell_type": "code",
   "execution_count": 46,
   "metadata": {},
   "outputs": [
    {
     "name": "stdout",
     "output_type": "stream",
     "text": [
      "gis= GIS @ https://delta.co.clatsop.or.us/portal version:8.4\n"
     ]
    }
   ],
   "source": [
    "import arcgis.gis\n",
    "gis = arcgis.gis.GIS(Config.PORTAL_URL,\n",
    "                     Config.PORTAL_USER,\n",
    "                     Config.PORTAL_PASSWORD,\n",
    "                     initialize=True)\n",
    "print(\"gis=\",gis)\n",
    "d = arcgis.gis.admin.System(\n",
    "    url=Config.PORTAL_URL + '/portaladmin', \n",
    "    gis=gis)\n"
   ]
  },
  {
   "cell_type": "code",
   "execution_count": 63,
   "metadata": {},
   "outputs": [
    {
     "name": "stdout",
     "output_type": "stream",
     "text": [
      "None\n"
     ]
    }
   ],
   "source": [
    "content_manager = gis.content\n",
    "folder = content_manager.get('1bd1c56ca79348d7b0042c1921664707')\n",
    "print(folder)"
   ]
  },
  {
   "cell_type": "code",
   "execution_count": 35,
   "metadata": {},
   "outputs": [
    {
     "name": "stdout",
     "output_type": "stream",
     "text": [
      "[<Directory at https://delta.co.clatsop.or.us/portal/portaladmin/system/directories/index>, <Directory at https://delta.co.clatsop.or.us/portal/portaladmin/system/directories/db>, <Directory at https://delta.co.clatsop.or.us/portal/portaladmin/system/directories/temp>, <Directory at https://delta.co.clatsop.or.us/portal/portaladmin/system/directories/content>]\n"
     ]
    }
   ],
   "source": [
    "print(s.directories)"
   ]
  },
  {
   "cell_type": "code",
   "execution_count": null,
   "metadata": {},
   "outputs": [],
   "source": []
  }
 ],
 "metadata": {
  "interpreter": {
   "hash": "72efb39161239d6b2700581347297d6d2de1141b3d98de3c4b9a464d2262205d"
  },
  "kernelspec": {
   "display_name": "Python 3.8.3 64-bit ('covid': conda)",
   "name": "python3"
  },
  "language_info": {
   "codemirror_mode": {
    "name": "ipython",
    "version": 3
   },
   "file_extension": ".py",
   "mimetype": "text/x-python",
   "name": "python",
   "nbconvert_exporter": "python",
   "pygments_lexer": "ipython3",
   "version": "3.7.10"
  },
  "orig_nbformat": 4
 },
 "nbformat": 4,
 "nbformat_minor": 2
}
